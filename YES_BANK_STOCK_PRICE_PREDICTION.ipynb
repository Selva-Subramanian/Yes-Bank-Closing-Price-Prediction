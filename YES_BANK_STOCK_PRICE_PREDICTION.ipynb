{
  "nbformat": 4,
  "nbformat_minor": 0,
  "metadata": {
    "colab": {
      "name": "YES BANK STOCK PRICE PREDICTION.ipynb",
      "provenance": [],
      "collapsed_sections": [],
      "include_colab_link": true
    },
    "kernelspec": {
      "display_name": "Python 3",
      "name": "python3"
    },
    "language_info": {
      "name": "python"
    }
  },
  "cells": [
    {
      "cell_type": "markdown",
      "metadata": {
        "id": "view-in-github",
        "colab_type": "text"
      },
      "source": [
        "<a href=\"https://colab.research.google.com/github/Selva-Subramanian/Yes_Bank_Closing_Price_Prediction/blob/main/YES_BANK_STOCK_PRICE_PREDICTION.ipynb\" target=\"_parent\"><img src=\"https://colab.research.google.com/assets/colab-badge.svg\" alt=\"Open In Colab\"/></a>"
      ]
    },
    {
      "cell_type": "markdown",
      "metadata": {
        "id": "FqWLeJzSGbid"
      },
      "source": [
        "# **Problem Statement**"
      ]
    },
    {
      "cell_type": "markdown",
      "metadata": {
        "id": "21cH4uuH9POR"
      },
      "source": [
        "Yes Bank is a well-known bank in the Indian financial domain. Since 2018, it has been in the\n",
        "news because of the fraud case involving Rana Kapoor. Owing to this fact, it was interesting\n",
        "to see how that impacted the stock prices of the company and whether Time series models\n",
        "or any other predictive models can do justice to such situations. This dataset has monthly\n",
        "stock prices of the bank since its inception and includes closing, starting, highest, and lowest\n",
        "stock prices of every month. The main objective is to predict the stock’s closing price of the\n",
        "month."
      ]
    },
    {
      "cell_type": "code",
      "metadata": {
        "colab": {
          "base_uri": "https://localhost:8080/"
        },
        "id": "qawGP8cKHC2Y",
        "outputId": "ed8b07b7-80dc-45fa-b252-7fb656c3c562"
      },
      "source": [
        "# mount drive to load dataset\n",
        "from google.colab import drive\n",
        "drive.mount('/content/drive')"
      ],
      "execution_count": 1,
      "outputs": [
        {
          "output_type": "stream",
          "name": "stdout",
          "text": [
            "Mounted at /content/drive\n"
          ]
        }
      ]
    },
    {
      "cell_type": "code",
      "metadata": {
        "id": "Wxy91kfHGlok"
      },
      "source": [
        "# importing the required libraries\n",
        "import warnings                                  # `do not disturbe` mode\n",
        "warnings.filterwarnings('ignore')\n",
        "\n",
        "import numpy as np                               # vectors and matrices\n",
        "import pandas as pd                              # tables and data manipulations\n",
        "import matplotlib.pyplot as plt                  # plots\n",
        "import seaborn as sns                            # more plots\n",
        "\n",
        "from datetime import datetime                    # to convert to date\n",
        "\n",
        "from dateutil.relativedelta import relativedelta # working with dates with style\n",
        "from scipy.optimize import minimize              # for function minimization\n",
        "\n",
        "import statsmodels.formula.api as smf            # statistics and econometrics\n",
        "import statsmodels.tsa.api as smt\n",
        "import statsmodels.api as sm\n",
        "import scipy.stats as scs\n",
        "\n",
        "from itertools import product                   # some useful functions\n",
        "from tqdm import tqdm_notebook\n",
        "\n",
        "\n",
        "\n",
        "%matplotlib inline"
      ],
      "execution_count": 2,
      "outputs": []
    },
    {
      "cell_type": "code",
      "metadata": {
        "id": "LAozQCA9H3PR"
      },
      "source": [
        "# load the dataset\n",
        "working_dir_path = \"/content/drive/MyDrive/Colab Notebooks/AlmaBetter Notebooks/Capstone projects/CP2 - Supervised - Regression/\"\n",
        "df = pd.read_csv(working_dir_path + \"data_YesBank_StockPrices.csv\")"
      ],
      "execution_count": 3,
      "outputs": []
    },
    {
      "cell_type": "code",
      "metadata": {
        "colab": {
          "base_uri": "https://localhost:8080/",
          "height": 206
        },
        "id": "HI2XBPxvJRRB",
        "outputId": "2e17f2fe-e41f-4f9a-f579-b4530e702b42"
      },
      "source": [
        "df.head()"
      ],
      "execution_count": 4,
      "outputs": [
        {
          "output_type": "execute_result",
          "data": {
            "text/html": [
              "<div>\n",
              "<style scoped>\n",
              "    .dataframe tbody tr th:only-of-type {\n",
              "        vertical-align: middle;\n",
              "    }\n",
              "\n",
              "    .dataframe tbody tr th {\n",
              "        vertical-align: top;\n",
              "    }\n",
              "\n",
              "    .dataframe thead th {\n",
              "        text-align: right;\n",
              "    }\n",
              "</style>\n",
              "<table border=\"1\" class=\"dataframe\">\n",
              "  <thead>\n",
              "    <tr style=\"text-align: right;\">\n",
              "      <th></th>\n",
              "      <th>Date</th>\n",
              "      <th>Open</th>\n",
              "      <th>High</th>\n",
              "      <th>Low</th>\n",
              "      <th>Close</th>\n",
              "    </tr>\n",
              "  </thead>\n",
              "  <tbody>\n",
              "    <tr>\n",
              "      <th>0</th>\n",
              "      <td>Jul-05</td>\n",
              "      <td>13.00</td>\n",
              "      <td>14.00</td>\n",
              "      <td>11.25</td>\n",
              "      <td>12.46</td>\n",
              "    </tr>\n",
              "    <tr>\n",
              "      <th>1</th>\n",
              "      <td>Aug-05</td>\n",
              "      <td>12.58</td>\n",
              "      <td>14.88</td>\n",
              "      <td>12.55</td>\n",
              "      <td>13.42</td>\n",
              "    </tr>\n",
              "    <tr>\n",
              "      <th>2</th>\n",
              "      <td>Sep-05</td>\n",
              "      <td>13.48</td>\n",
              "      <td>14.87</td>\n",
              "      <td>12.27</td>\n",
              "      <td>13.30</td>\n",
              "    </tr>\n",
              "    <tr>\n",
              "      <th>3</th>\n",
              "      <td>Oct-05</td>\n",
              "      <td>13.20</td>\n",
              "      <td>14.47</td>\n",
              "      <td>12.40</td>\n",
              "      <td>12.99</td>\n",
              "    </tr>\n",
              "    <tr>\n",
              "      <th>4</th>\n",
              "      <td>Nov-05</td>\n",
              "      <td>13.35</td>\n",
              "      <td>13.88</td>\n",
              "      <td>12.88</td>\n",
              "      <td>13.41</td>\n",
              "    </tr>\n",
              "  </tbody>\n",
              "</table>\n",
              "</div>"
            ],
            "text/plain": [
              "     Date   Open   High    Low  Close\n",
              "0  Jul-05  13.00  14.00  11.25  12.46\n",
              "1  Aug-05  12.58  14.88  12.55  13.42\n",
              "2  Sep-05  13.48  14.87  12.27  13.30\n",
              "3  Oct-05  13.20  14.47  12.40  12.99\n",
              "4  Nov-05  13.35  13.88  12.88  13.41"
            ]
          },
          "metadata": {},
          "execution_count": 4
        }
      ]
    },
    {
      "cell_type": "code",
      "metadata": {
        "colab": {
          "base_uri": "https://localhost:8080/"
        },
        "id": "d9Gz8ka-JU-V",
        "outputId": "49cc3894-8582-4dc0-b017-e0586fd269f0"
      },
      "source": [
        "# let's look at the details of our features \n",
        "df.info()"
      ],
      "execution_count": 5,
      "outputs": [
        {
          "output_type": "stream",
          "name": "stdout",
          "text": [
            "<class 'pandas.core.frame.DataFrame'>\n",
            "RangeIndex: 185 entries, 0 to 184\n",
            "Data columns (total 5 columns):\n",
            " #   Column  Non-Null Count  Dtype  \n",
            "---  ------  --------------  -----  \n",
            " 0   Date    185 non-null    object \n",
            " 1   Open    185 non-null    float64\n",
            " 2   High    185 non-null    float64\n",
            " 3   Low     185 non-null    float64\n",
            " 4   Close   185 non-null    float64\n",
            "dtypes: float64(4), object(1)\n",
            "memory usage: 7.4+ KB\n"
          ]
        }
      ]
    },
    {
      "cell_type": "markdown",
      "metadata": {
        "id": "6NfykIXEJtLP"
      },
      "source": [
        "We have a total of 185 entries <br>\n",
        "No missing values <br>\n",
        "Date column is of 'object' datatype let's convert it to 'datatime' "
      ]
    },
    {
      "cell_type": "code",
      "metadata": {
        "id": "YQqIjpQKKVoy"
      },
      "source": [
        "# convert string object to datetime object\n",
        "df['Date'] = df['Date'].apply(lambda x: datetime.strptime(x, \"%b-%y\"))"
      ],
      "execution_count": 6,
      "outputs": []
    },
    {
      "cell_type": "code",
      "metadata": {
        "colab": {
          "base_uri": "https://localhost:8080/",
          "height": 336
        },
        "id": "NPqsCl1Of4Nr",
        "outputId": "4f398f80-1ca0-4fca-b9fd-7e1406c16d67"
      },
      "source": [
        "plt.figure(figsize=(20,5))\n",
        "plt.plot(df.Date, df.Close)\n",
        "plt.title(\"Monthly closing price\")\n",
        "plt.grid(True)\n",
        "plt.show()"
      ],
      "execution_count": 7,
      "outputs": [
        {
          "output_type": "display_data",
          "data": {
            "image/png": "[encoded data removed]",
            "text/plain": [
              "<Figure size 1440x360 with 1 Axes>"
            ]
          },
          "metadata": {
            "needs_background": "light"
          }
        }
      ]
    },
    {
      "cell_type": "code",
      "metadata": {
        "id": "lf80TR3FV3t3"
      },
      "source": [
        "# import required metrics \n",
        "\n",
        "from sklearn.metrics import r2_score, mean_absolute_error, median_absolute_error, mean_squared_error, mean_squared_log_error\n",
        "\n",
        "def mean_absolute_percentage_error(y_true, y_pred):\n",
        "  return np.mean(np.abs((y_true - y_pred) / y_true)) * 100"
      ],
      "execution_count": 8,
      "outputs": []
    },
    {
      "cell_type": "markdown",
      "metadata": {
        "id": "7LmEkK9p87-m"
      },
      "source": [
        "### A moving average much better than a naive forecast ($\\hat{y}_t = y_{t-1}$). A **moving average** is the average of previous $k$ values. <br>  $\\hat{y}_t = \\frac{1}{k} \\displaystyle\\sum^{k}_{n=1} y_{t-n}$"
      ]
    },
    {
      "cell_type": "code",
      "metadata": {
        "colab": {
          "base_uri": "https://localhost:8080/"
        },
        "id": "RYzfLkBjV4Da",
        "outputId": "7092ab5e-6b4f-4227-8dd8-ce2024fd6590"
      },
      "source": [
        "# function for calculating moving average\n",
        "\n",
        "def moving_average(series, n ):\n",
        "  \n",
        "  \"\"\"\n",
        "  Calculate average of last n observation\n",
        "  \"\"\"\n",
        "  \n",
        "  return np.average(series[-n:])\n",
        "\n",
        "moving_average(df['Close'],12) # prediction for next month closing price using observed previous 12 months data"
      ],
      "execution_count": 9,
      "outputs": [
        {
          "output_type": "execute_result",
          "data": {
            "text/plain": [
              "24.175833333333333"
            ]
          },
          "metadata": {},
          "execution_count": 9
        }
      ]
    },
    {
      "cell_type": "markdown",
      "metadata": {
        "id": "tCV96jtNV4Gr"
      },
      "source": [
        "### Unfortunately we can make only one prediction, to make further predictions we need to have the actual observed values. However moving average can be used to identify the trends by smoothing the time series using a pandas implementation [`DataFrame.rolling(window).mean()`](https://pandas.pydata.org/pandas-docs/stable/reference/api/pandas.DataFrame.rolling.html)."
      ]
    },
    {
      "cell_type": "code",
      "metadata": {
        "id": "ZdxQBhqvV4KG"
      },
      "source": [
        "# function for plotting moving average\n",
        "\n",
        "def ma(series, window, plot_intervals=False):\n",
        "\n",
        "  \"\"\"\n",
        "  series - dataframe column with timeseries\n",
        "  window - rolling window size\n",
        "  \"\"\"\n",
        "\n",
        "  rolling_mean = series.rolling(window=window).mean()\n",
        "\n",
        "  plt.figure(figsize=(20,5))\n",
        "  plt.title('Moving average \\n window size = {}'.format(window))\n",
        "  plt.plot(df['Date'], rolling_mean, \"g\", label = \"Rolling mean trend\")\n",
        "\n",
        "  # plotting confidence intervals\n",
        "  if plot_intervals:\n",
        "    mae = mean_absolute_error(series[window:], rolling_mean[window:])\n",
        "    deviation = np.std(series[window] - rolling_mean[window:])\n",
        "    lower_bound = rolling_mean - (mae + deviation)\n",
        "    upper_bound = rolling_mean + (mae + deviation)\n",
        "    plt.plot(df['Date'], lower_bound, \"r--\", label = \"Upper/Lower bounds\")\n",
        "    plt.plot(df['Date'], upper_bound, \"r--\")\n",
        "  \n",
        "  plt.plot(df['Date'], series, label = \"Actual values\")\n",
        "  plt.legend(loc=\"upper left\")\n",
        "  plt.grid(True)"
      ],
      "execution_count": 10,
      "outputs": []
    },
    {
      "cell_type": "code",
      "metadata": {
        "colab": {
          "base_uri": "https://localhost:8080/",
          "height": 351
        },
        "id": "_pg9SVvdVtwa",
        "outputId": "b07ef708-bfc0-47f0-b77a-c6f1773ddc50"
      },
      "source": [
        "# plotting 12 months moving average \n",
        "\n",
        "ma(df['Close'],12, plot_intervals=True) # smoothing by previous 12 months"
      ],
      "execution_count": 11,
      "outputs": [
        {
          "output_type": "display_data",
          "data": {
            "image/png": "[encoded data removed]",
            "text/plain": [
              "<Figure size 1440x360 with 1 Axes>"
            ]
          },
          "metadata": {
            "needs_background": "light"
          }
        }
      ]
    },
    {
      "cell_type": "code",
      "metadata": {
        "colab": {
          "base_uri": "https://localhost:8080/"
        },
        "id": "U7Gfc9rGYKyG",
        "outputId": "0f611256-69ec-4fed-8a02-0863acb2ca25"
      },
      "source": [
        "# function that returns weighted moving average\n",
        "def wma(series, weights):\n",
        "  \"\"\"\n",
        "  Calculate weighted moving average of the series\n",
        "  \"\"\"\n",
        "  result = 0.0\n",
        "  for w in range(len(weights)):\n",
        "    result += series.iloc[-w-1] * weights[w]\n",
        "    return float(result)\n",
        "\n",
        "wma(df['Close'], weights = [0.5, 0.3, 0.2])"
      ],
      "execution_count": 12,
      "outputs": [
        {
          "output_type": "execute_result",
          "data": {
            "text/plain": [
              "7.335"
            ]
          },
          "metadata": {},
          "execution_count": 12
        }
      ]
    },
    {
      "cell_type": "markdown",
      "metadata": {
        "id": "mAF38LNyVuCX"
      },
      "source": [
        "### Now let's extend this concept of weighted averages to exponentially weighted moving averages"
      ]
    },
    {
      "cell_type": "markdown",
      "metadata": {
        "id": "RkthMLrxJmvq"
      },
      "source": [
        "### **Exponentially weighted moving averages** weights all the available observations while exponentially decreasing the weights as we move back $k$ values \n",
        "\n",
        "## $$\\hat{y}_{t+1} = \\alpha \\cdot y_t + \\alpha(1-\\alpha) \\cdot y_{t-1} + \\alpha(1-\\alpha)^2 \\cdot y_{t-2} + \\alpha(1-\\alpha)^3 \\cdot y_{t-3} + .... $$\n",
        "\n",
        "## $$ \\hat{y}_{t+1} = \\alpha \\cdot y_t + (1-\\alpha) \\cdot \\hat{y}_t $$"
      ]
    },
    {
      "cell_type": "code",
      "metadata": {
        "id": "od2SWYwsJm4w"
      },
      "source": [
        "def exponential_smoothing(series, alpha):\n",
        "  \"\"\"\n",
        "  series - dataframe column with timeseries\n",
        "  alpha - smoothing parameter\n",
        "  \"\"\"\n",
        "  result = [series[0]]\n",
        "  for n in range(len(series)):\n",
        "    result.append(alpha * series[n] + (1 - alpha) * result[n-1])\n",
        "  return result"
      ],
      "execution_count": 29,
      "outputs": []
    },
    {
      "cell_type": "code",
      "metadata": {
        "colab": {
          "base_uri": "https://localhost:8080/"
        },
        "id": "u83i6V_RJnRg",
        "outputId": "696b8cb7-3bda-4d08-fb85-ce30452b82cf"
      },
      "source": [
        "exponential_smoothing(df['Close'], 0.9)"
      ],
      "execution_count": 30,
      "outputs": [
        {
          "output_type": "execute_result",
          "data": {
            "text/plain": [
              "[12.46,\n",
              " 12.46,\n",
              " 13.324,\n",
              " 13.216000000000001,\n",
              " 13.0234,\n",
              " 13.390600000000001,\n",
              " 13.64134,\n",
              " 15.13606,\n",
              " 15.872134,\n",
              " 19.585606,\n",
              " 19.1282134,\n",
              " 18.1855606,\n",
              " 15.970821339999999,\n",
              " 16.36255606,\n",
              " 17.653082134,\n",
              " 18.250255606,\n",
              " 22.267308213400003,\n",
              " 24.6130255606,\n",
              " 26.49973082134,\n",
              " 29.605302556060003,\n",
              " 28.416973082134,\n",
              " 28.286530255606,\n",
              " 30.120697308213398,\n",
              " 32.9876530255606,\n",
              " 35.394069730821336,\n",
              " 37.43576530255606,\n",
              " 36.830406973082134,\n",
              " 40.967576530255606,\n",
              " 42.81504069730821,\n",
              " 45.65875765302556,\n",
              " 49.11050406973082,\n",
              " 50.051875765302555,\n",
              " 49.389050406973084,\n",
              " 35.380187576530254,\n",
              " 35.59290504069731,\n",
              " 31.555018757653023,\n",
              " 24.12429050406973,\n",
              " 26.060501875765304,\n",
              " 26.55942905040697,\n",
              " 24.323050187576527,\n",
              " 14.877942905040696,\n",
              " 13.466305018757653,\n",
              " 15.014794290504069,\n",
              " 12.362630501875765,\n",
              " 10.735479429050407,\n",
              " 10.218263050187577,\n",
              " 14.97854794290504,\n",
              " 23.629826305018756,\n",
              " 28.209854794290504,\n",
              " 31.099982630501877,\n",
              " 32.92598547942905,\n",
              " 40.00099826305019,\n",
              " 45.8715985479429,\n",
              " 49.513099826305016,\n",
              " 52.65615985479428,\n",
              " 49.8073099826305,\n",
              " 47.85361598547943,\n",
              " 50.853730998263046,\n",
              " 56.175361598547944,\n",
              " 56.89837309982631,\n",
              " 54.064536159854796,\n",
              " 58.78083730998263,\n",
              " 61.404453615985474,\n",
              " 69.14808373099825,\n",
              " 70.81444536159856,\n",
              " 62.00380837309982,\n",
              " 63.36744453615986,\n",
              " 53.53138083730998,\n",
              " 52.49774445361599,\n",
              " 61.13513808373099,\n",
              " 60.1677744453616,\n",
              " 60.1765138083731,\n",
              " 62.15877744453616,\n",
              " 61.93465138083731,\n",
              " 56.264877744453614,\n",
              " 55.243465138083735,\n",
              " 62.23648777444536,\n",
              " 54.56534651380838,\n",
              " 49.17164877744453,\n",
              " 64.84753465138084,\n",
              " 67.14316487774445,\n",
              " 72.59875346513807,\n",
              " 69.77731648777444,\n",
              " 66.6778753465138,\n",
              " 68.02473164877745,\n",
              " 72.23278753465138,\n",
              " 66.17547316487774,\n",
              " 76.01927875346514,\n",
              " 80.67854731648778,\n",
              " 87.23392787534652,\n",
              " 91.62385473164879,\n",
              " 102.69239278753464,\n",
              " 94.21238547316487,\n",
              " 87.40823927875346,\n",
              " 99.67323854731649,\n",
              " 96.48182392787534,\n",
              " 92.94732385473165,\n",
              " 67.93218239278754,\n",
              " 53.07973238547316,\n",
              " 58.54321823927875,\n",
              " 71.69197323854732,\n",
              " 72.22032182392788,\n",
              " 73.78719732385473,\n",
              " 62.65303218239279,\n",
              " 62.233719732385474,\n",
              " 80.69530321823929,\n",
              " 85.54937197323855,\n",
              " 110.57053032182394,\n",
              " 106.09693719732385,\n",
              " 108.44605303218239,\n",
              " 113.50669371973238,\n",
              " 111.37460530321823,\n",
              " 134.49766937197325,\n",
              " 139.00946053032183,\n",
              " 152.56276693719732,\n",
              " 169.1509460530322,\n",
              " 170.55127669371976,\n",
              " 163.89409460530322,\n",
              " 168.219127669372,\n",
              " 175.25740946053034,\n",
              " 168.5619127669372,\n",
              " 166.69174094605305,\n",
              " 140.96619127669373,\n",
              " 147.9971740946053,\n",
              " 150.73461912766936,\n",
              " 152.76971740946055,\n",
              " 145.78046191276692,\n",
              " 149.71897174094607,\n",
              " 138.48104619127668,\n",
              " 170.5908971740946,\n",
              " 183.70510461912767,\n",
              " 202.81008971740945,\n",
              " 217.5405104619128,\n",
              " 239.37700897174093,\n",
              " 267.0580510461913,\n",
              " 249.70270089717408,\n",
              " 254.87380510461912,\n",
              " 235.8222700897174,\n",
              " 233.6213805104619,\n",
              " 274.77222700897175,\n",
              " 284.8661380510462,\n",
              " 306.3152227008972,\n",
              " 322.01261380510465,\n",
              " 288.3735222700897,\n",
              " 295.3342613805105,\n",
              " 354.601352227009,\n",
              " 345.568426138051,\n",
              " 350.4601352227009,\n",
              " 317.4718426138051,\n",
              " 311.1660135222701,\n",
              " 315.2921842613805,\n",
              " 350.121601352227,\n",
              " 321.55421842613805,\n",
              " 309.42216013522267,\n",
              " 358.00042184261383,\n",
              " 342.52221601352227,\n",
              " 341.4400421842614,\n",
              " 365.36222160135225,\n",
              " 343.2040042184261,\n",
              " 201.64122216013521,\n",
              " 203.5654004218426,\n",
              " 172.8491222160135,\n",
              " 183.93154004218428,\n",
              " 192.15491222160136,\n",
              " 226.4731540042184,\n",
              " 266.76049122216017,\n",
              " 173.84731540042185,\n",
              " 159.831049122216,\n",
              " 115.21473154004218,\n",
              " 98.1531049122216,\n",
              " 65.07147315400422,\n",
              " 47.12031049122216,\n",
              " 69.91214731540042,\n",
              " 66.18203104912222,\n",
              " 49.24621473154004,\n",
              " 41.89820310491222,\n",
              " 36.019621473154004,\n",
              " 24.39482031049122,\n",
              " 28.756962147315402,\n",
              " 26.604482031049123,\n",
              " 25.915696214731543,\n",
              " 13.41544820310491,\n",
              " 15.524569621473153,\n",
              " 13.176544820310491,\n",
              " 12.730456962147315,\n",
              " 14.520654482031048]"
            ]
          },
          "metadata": {},
          "execution_count": 30
        }
      ]
    },
    {
      "cell_type": "code",
      "metadata": {
        "id": "SoPqAlFPJnYG"
      },
      "source": [
        ""
      ],
      "execution_count": null,
      "outputs": []
    }
  ]
}